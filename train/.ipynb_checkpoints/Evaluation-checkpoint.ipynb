{
 "cells": [
  {
   "cell_type": "markdown",
   "metadata": {},
   "source": [
    "# CloudWine Model Evaluation"
   ]
  },
  {
   "cell_type": "code",
   "execution_count": 2,
   "metadata": {},
   "outputs": [],
   "source": [
    "import pickle\n",
    "import json"
   ]
  },
  {
   "cell_type": "code",
   "execution_count": 3,
   "metadata": {},
   "outputs": [],
   "source": [
    "# Clear the runs folder\n",
    "!rm ./runs/*"
   ]
  },
  {
   "cell_type": "code",
   "execution_count": 7,
   "metadata": {},
   "outputs": [],
   "source": [
    "def reset_config():\n",
    "    config = {\n",
    "      \"model\": \"\",\n",
    "      \"args\": {\n",
    "        \"data_path\": \"./data/raw/sample.csv\",\n",
    "        \"lowercase\": False,\n",
    "        \"remove_punctuation\": False,\n",
    "        \"remove_stopwords\": False,\n",
    "        \"lemmatize\": False,\n",
    "        \"save_model\": True,\n",
    "        \"model_dir\": \"./models/\",\n",
    "        \"save_validation\": True,\n",
    "        \"validation_dir\": \"./runs/\"\n",
    "      }\n",
    "    }\n",
    "    return config\n",
    "config = reset_config()"
   ]
  },
  {
   "cell_type": "code",
   "execution_count": 6,
   "metadata": {},
   "outputs": [],
   "source": [
    "models = ['tfidf', 'doc2vec', 'bert']"
   ]
  },
  {
   "cell_type": "code",
   "execution_count": null,
   "metadata": {},
   "outputs": [],
   "source": [
    "for m in models:\n",
    "    "
   ]
  }
 ],
 "metadata": {
  "kernelspec": {
   "display_name": "cloudwine",
   "language": "python",
   "name": "cloudwine"
  },
  "language_info": {
   "codemirror_mode": {
    "name": "ipython",
    "version": 3
   },
   "file_extension": ".py",
   "mimetype": "text/x-python",
   "name": "python",
   "nbconvert_exporter": "python",
   "pygments_lexer": "ipython3",
   "version": "3.8.3"
  }
 },
 "nbformat": 4,
 "nbformat_minor": 4
}
